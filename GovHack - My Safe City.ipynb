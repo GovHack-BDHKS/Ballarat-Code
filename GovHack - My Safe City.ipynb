{
 "cells": [
  {
   "cell_type": "markdown",
   "metadata": {},
   "source": [
    "# Loading Libraries"
   ]
  },
  {
   "cell_type": "code",
   "execution_count": 9,
   "metadata": {},
   "outputs": [
    {
     "name": "stderr",
     "output_type": "stream",
     "text": [
      "Warning message:\n",
      "\"package 'stringr' was built under R version 3.5.3\""
     ]
    }
   ],
   "source": [
    "library(readr)\n",
    "library(dplyr)\n",
    "library(stringr)"
   ]
  },
  {
   "cell_type": "markdown",
   "metadata": {},
   "source": [
    "# The data"
   ]
  },
  {
   "cell_type": "raw",
   "metadata": {},
   "source": [
    "The Ballarat Right to the Night dataset was downloaded from this link:\n",
    "\n",
    "https://data.gov.au/data/dataset/ballarat-right-to-the-night"
   ]
  },
  {
   "cell_type": "raw",
   "metadata": {},
   "source": [
    "The data consists of safety experiences told by the city residents. \n",
    "People explained their experiences in free-form text which was used \n",
    "to desribe the safety of the area."
   ]
  },
  {
   "cell_type": "markdown",
   "metadata": {},
   "source": [
    "# Loading Data"
   ]
  },
  {
   "cell_type": "code",
   "execution_count": 10,
   "metadata": {},
   "outputs": [
    {
     "name": "stderr",
     "output_type": "stream",
     "text": [
      "Parsed with column specification:\n",
      "cols(\n",
      "  `Incident ID` = col_double(),\n",
      "  `Date of contribution` = col_character(),\n",
      "  Latitude = col_double(),\n",
      "  Longitude = col_double(),\n",
      "  Address = col_character(),\n",
      "  Category = col_character(),\n",
      "  `What made you feel like this?` = col_character(),\n",
      "  Age = col_double(),\n",
      "  Gender = col_character(),\n",
      "  `Do you identify as having a disability?` = col_character(),\n",
      "  `Your Comment` = col_character(),\n",
      "  `Are you from a culturally and linguistically diverse background?` = col_character()\n",
      ")\n"
     ]
    }
   ],
   "source": [
    "ballarat_df <- read_csv(\"right-to-the-night.csv\")\n",
    "colnames(ballarat_df) <- colnames(ballarat_df) %>% tolower()\n",
    "\n",
    "\n",
    "# convert all values to lower case\n",
    "ballarat_df <- ballarat_df %>%\n",
    "  mutate_all( .funs=tolower)\n"
   ]
  },
  {
   "cell_type": "markdown",
   "metadata": {},
   "source": [
    "# Cleaning Data"
   ]
  },
  {
   "cell_type": "code",
   "execution_count": 11,
   "metadata": {},
   "outputs": [],
   "source": [
    "# Renaming the columns\n",
    "ballarat_df <- ballarat_df %>%\n",
    "  rename(\"date\"=\n",
    "         \"date of contribution\" ,\n",
    "         \n",
    "         \"desc\"=\n",
    "         \"your comment\",\n",
    "         \n",
    "         \"diverse\" = \n",
    "         \"are you from a culturally and linguistically diverse background?\",\n",
    "         \n",
    "         \"disability\" \n",
    "         = \"do you identify as having a disability?\",\n",
    "         \n",
    "         \"feeling\" =\n",
    "         \"what made you feel like this?\")\n",
    "\n",
    "# creating new variables to extract themes from people's comments\n",
    "# such as lighting, alcohol, drugs, theft and sexual abuse\n",
    "\n",
    "ballarat_df <- ballarat_df %>%\n",
    "  mutate(lighting = ifelse(str_count(desc, \n",
    "        \"lighting\")     >=1, 1,0)) %>%\n",
    "\n",
    "  mutate(alcohol = ifelse(str_count(desc, \n",
    "        \"alcohol[ic]?|dr[i|a|u]nk|RSA\")>=1, 1,0)) %>%\n",
    "\n",
    "  \n",
    "  mutate(drug     = ifelse(str_count(desc, \n",
    "         \"drug[s]?\")     >=1, 1,0)) %>%\n",
    "\n",
    "  mutate(theft    = ifelse(str_count(desc, \n",
    "         \"theft|thieve[s]?|burglar[y]?|steal|stolen|rob\")>=1, 1,0)) %>%\n",
    "\n",
    "  mutate(sexual   = ifelse(str_count(desc, \n",
    "         \"sex|rape|assualt\")>=1,1,0))\n"
   ]
  },
  {
   "cell_type": "markdown",
   "metadata": {},
   "source": [
    "# Export the data"
   ]
  },
  {
   "cell_type": "code",
   "execution_count": 12,
   "metadata": {},
   "outputs": [],
   "source": [
    "write_csv(ballarat_df, \"ballarat_df.csv\")"
   ]
  }
 ],
 "metadata": {
  "kernelspec": {
   "display_name": "R",
   "language": "R",
   "name": "ir"
  },
  "language_info": {
   "codemirror_mode": "r",
   "file_extension": ".r",
   "mimetype": "text/x-r-source",
   "name": "R",
   "pygments_lexer": "r",
   "version": "3.5.1"
  }
 },
 "nbformat": 4,
 "nbformat_minor": 2
}
